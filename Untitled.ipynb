{
  "cells": [
    {
      "cell_type": "code",
      "execution_count": 2,
      "id": "8e3ecfe8",
      "metadata": {
        "id": "8e3ecfe8"
      },
      "outputs": [],
      "source": [
        "import cv2\n",
        "import os\n",
        "import time\n",
        "import uuid"
      ]
    },
    {
      "cell_type": "code",
      "execution_count": 7,
      "id": "af225f36",
      "metadata": {
        "id": "af225f36"
      },
      "outputs": [],
      "source": [
        "IMAGES_PATH = '/Tensorflow/workspace/images/collectedimages'"
      ]
    },
    {
      "cell_type": "code",
      "execution_count": 10,
      "id": "QfLn2wCJqQZt",
      "metadata": {
        "id": "QfLn2wCJqQZt"
      },
      "outputs": [],
      "source": [
        "labels = ['hello']\n",
        "number_imgs = 3"
      ]
    },
    {
      "cell_type": "code",
      "execution_count": 11,
      "id": "-EdgzWWzqpNO",
      "metadata": {
        "colab": {
          "base_uri": "https://localhost:8080/",
          "height": 245
        },
        "id": "-EdgzWWzqpNO",
        "outputId": "fe69e1f2-99e5-455d-e45f-d6018818aa38"
      },
      "outputs": [
        {
          "name": "stdout",
          "output_type": "stream",
          "text": [
            "mkdir: /Tensorflow/workspace/images: No such file or directory\n",
            "Collecting images for hello\n"
          ]
        }
      ],
      "source": [
        "for label in labels:\n",
        "  !mkdir {'/Tensorflow/workspace/images/collectedimages\\\\'+label}\n",
        "  cap = cv2.VideoCapture(0)\n",
        "  print('Collecting images for {}'.format(label))\n",
        "  time.sleep(5)\n",
        "  for imgnum in range(number_imgs):\n",
        "    ret, frame = cap.read()\n",
        "    imgname = os.path.join(IMAGES_PATH, label, label+'.'+'{}.jpg'.format(str(uuid.uuid1())))\n",
        "    cv2.imwrite(imgname, frame)\n",
        "    cv2.imshow('frame', frame)\n",
        "    time.sleep(2)\n",
        "\n",
        "    if cv2.waitKey(1) & 0xFF == ord('q'):\n",
        "      break\n",
        "  cap.release()"
      ]
    },
    {
      "cell_type": "code",
      "execution_count": null,
      "id": "nRwttNPYulUq",
      "metadata": {
        "id": "nRwttNPYulUq"
      },
      "outputs": [],
      "source": []
    }
  ],
  "metadata": {
    "colab": {
      "provenance": []
    },
    "kernelspec": {
      "display_name": "Python 3 (ipykernel)",
      "language": "python",
      "name": "python3"
    },
    "language_info": {
      "codemirror_mode": {
        "name": "ipython",
        "version": 3
      },
      "file_extension": ".py",
      "mimetype": "text/x-python",
      "name": "python",
      "nbconvert_exporter": "python",
      "pygments_lexer": "ipython3",
      "version": "3.10.7"
    }
  },
  "nbformat": 4,
  "nbformat_minor": 5
}
