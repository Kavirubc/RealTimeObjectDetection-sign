{
  "cells": [
    {
      "cell_type": "code",
      "execution_count": 2,
      "id": "8e3ecfe8",
      "metadata": {
        "id": "8e3ecfe8"
      },
      "outputs": [],
      "source": [
        "import cv2\n",
        "import os\n",
        "import time\n",
        "import uuid"
      ]
    },
    {
      "cell_type": "code",
      "execution_count": 3,
      "id": "af225f36",
      "metadata": {
        "id": "af225f36"
      },
      "outputs": [],
      "source": [
        "IMAGES_PATH = '/Tensorflow/workspace/images/collectedimages'"
      ]
    },
    {
      "cell_type": "code",
      "execution_count": 3,
      "id": "QfLn2wCJqQZt",
      "metadata": {
        "id": "QfLn2wCJqQZt"
      },
      "outputs": [],
      "source": [
        "labels = ['hello', 'yes', 'no']\n",
        "number_imgs = 3"
      ]
    },
    {
      "cell_type": "code",
      "execution_count": 4,
      "id": "-EdgzWWzqpNO",
      "metadata": {
        "colab": {
          "base_uri": "https://localhost:8080/",
          "height": 245
        },
        "id": "-EdgzWWzqpNO",
        "outputId": "fe69e1f2-99e5-455d-e45f-d6018818aa38"
      },
      "outputs": [
        {
          "name": "stdout",
          "output_type": "stream",
          "text": [
            "Collecting images for hello\n",
            "Collecting images for yes\n",
            "Collecting images for no\n"
          ]
        }
      ],
      "source": [
        "# Check if the main directory exists, if not create it\n",
        "if not os.path.exists(IMAGES_PATH):\n",
        "    os.makedirs(IMAGES_PATH)\n",
        "\n",
        "for label in labels:\n",
        "    # Create label-specific subfolder\n",
        "    label_path = os.path.join(IMAGES_PATH, label)\n",
        "    if not os.path.exists(label_path):\n",
        "        os.makedirs(label_path)\n",
        "\n",
        "    cap = cv2.VideoCapture(0)  # Access webcam (adjust the camera index if needed)\n",
        "    print('Collecting images for {}'.format(label))\n",
        "    time.sleep(5)  # Wait for user to be ready\n",
        "\n",
        "    for imgnum in range(number_imgs):\n",
        "        ret, frame = cap.read()\n",
        "        if not ret:  # Handle cases where the camera doesn't capture a frame\n",
        "            print(\"Error: Unable to capture frame\")\n",
        "            continue\n",
        "\n",
        "        # Generate a unique filename\n",
        "        imgname = os.path.join(label_path, label + f'_{imgnum}.jpg') \n",
        "\n",
        "        # Write the frame to the file\n",
        "        cv2.imwrite(imgname, frame)\n",
        "        cv2.imshow('frame', frame)\n",
        "        time.sleep(2)  # Delay between captures\n",
        "\n",
        "        if cv2.waitKey(1) & 0xFF == ord('q'):\n",
        "            break\n",
        "\n",
        "    cap.release()\n",
        "    cv2.destroyAllWindows()  # Close all windows after collecting images for each label"
      ]
    },
    {
      "cell_type": "code",
      "execution_count": null,
      "id": "nRwttNPYulUq",
      "metadata": {
        "id": "nRwttNPYulUq"
      },
      "outputs": [],
      "source": []
    }
  ],
  "metadata": {
    "colab": {
      "provenance": []
    },
    "kernelspec": {
      "display_name": "Python 3 (ipykernel)",
      "language": "python",
      "name": "python3"
    },
    "language_info": {
      "codemirror_mode": {
        "name": "ipython",
        "version": 3
      },
      "file_extension": ".py",
      "mimetype": "text/x-python",
      "name": "python",
      "nbconvert_exporter": "python",
      "pygments_lexer": "ipython3",
      "version": "3.10.7"
    }
  },
  "nbformat": 4,
  "nbformat_minor": 5
}
